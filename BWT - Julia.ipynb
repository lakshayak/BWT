{
 "cells": [
  {
   "cell_type": "markdown",
   "metadata": {},
   "source": [
    "# Group A  \n",
    "## Burrows Wheeler Transform: Julia"
   ]
  },
  {
   "cell_type": "markdown",
   "metadata": {},
   "source": [
    "************************************************************"
   ]
  },
  {
   "cell_type": "code",
   "execution_count": 1,
   "metadata": {},
   "outputs": [
    {
     "data": {
      "text/plain": [
       "splitkmers (generic function with 1 method)"
      ]
     },
     "execution_count": 1,
     "metadata": {},
     "output_type": "execute_result"
    }
   ],
   "source": [
    "#to split the DNA String into given no. of k-mers\n",
    "function splitkmers(string, k)\n",
    "    out = []\n",
    "    # for loop that iterates through the DNA string and extracts the kmers\n",
    "    for i in 1:(length(string)-k+1)\n",
    "        out = push!(out, string[i:i+k-1])\n",
    "    end\n",
    "    #to sort the k-mers in lexicographical order\n",
    "    out = sort!(out)\n",
    "    return out\n",
    "end"
   ]
  },
  {
   "cell_type": "code",
   "execution_count": 2,
   "metadata": {},
   "outputs": [
    {
     "data": {
      "text/plain": [
       "BWT_table (generic function with 1 method)"
      ]
     },
     "execution_count": 2,
     "metadata": {},
     "output_type": "execute_result"
    }
   ],
   "source": [
    "#to find the BWT of a sequence or kmers\n",
    "function BWT_table(word)\n",
    "    word = string(word,'#') #adding hashtag sign is to track the last word\n",
    "    l = length(word)\n",
    "    T = []\n",
    "    for i in 1:l\n",
    "    push!(T,word)\n",
    "    #Cyclic rotations of the sequence\n",
    "    word = string(word[end],word[1:end - 1])\n",
    "    end\n",
    "return T\n",
    "end"
   ]
  },
  {
   "cell_type": "code",
   "execution_count": 3,
   "metadata": {},
   "outputs": [
    {
     "data": {
      "text/plain": [
       "Bub_sort (generic function with 1 method)"
      ]
     },
     "execution_count": 3,
     "metadata": {},
     "output_type": "execute_result"
    }
   ],
   "source": [
    "#function for sorting by Bubble sort algorithm\n",
    "function Bub_sort(list)\n",
    "    for i in 1:length(list)\n",
    "    for j in 1:length(list)\n",
    "    #to compare the two adjacent elements and swap them\n",
    "    if list[i] < list[j]\n",
    "        temp = list[i]\n",
    "        list[i] = list[j]\n",
    "        list[j] = temp\n",
    "    end\n",
    "    end\n",
    "    end\n",
    "    return list\n",
    "end"
   ]
  },
  {
   "cell_type": "code",
   "execution_count": 4,
   "metadata": {},
   "outputs": [],
   "source": [
    "inp_string = \"GAGGAGGA\";\n",
    "k = 3;"
   ]
  },
  {
   "cell_type": "code",
   "execution_count": 5,
   "metadata": {},
   "outputs": [
    {
     "data": {
      "text/plain": [
       "BWT (generic function with 1 method)"
      ]
     },
     "execution_count": 5,
     "metadata": {},
     "output_type": "execute_result"
    }
   ],
   "source": [
    "#function to get BWT of a Sequence\n",
    "function BWT(string)\n",
    "    List = BWT_table(string)\n",
    "    #for sorting the list \n",
    "    Lexicographical_order = sort!(List)\n",
    "    #creating a empty string to append the BWT Sequence\n",
    "    BWT_sequence = \"\"\n",
    "    #for loop to append the sorted in BWT_sequence\n",
    "    for i in 1:length(Lexicographical_order)\n",
    "        BWT_sequence *= Lexicographical_order[i][end]\n",
    "    end\n",
    "    return BWT_sequence\n",
    "end"
   ]
  },
  {
   "cell_type": "code",
   "execution_count": 6,
   "metadata": {},
   "outputs": [
    {
     "name": "stdout",
     "output_type": "stream",
     "text": [
      "  0.037895 seconds (84.16 k allocations: 4.108 MiB)\n"
     ]
    },
    {
     "data": {
      "text/plain": [
       "\"AGGGGG#AA\""
      ]
     },
     "execution_count": 6,
     "metadata": {},
     "output_type": "execute_result"
    }
   ],
   "source": [
    "@time begin #to get time and memory allocation for BWT\n",
    "    \n",
    "out_BWT = BWT(inp_string)\n",
    "\n",
    "end"
   ]
  },
  {
   "cell_type": "code",
   "execution_count": 7,
   "metadata": {},
   "outputs": [
    {
     "data": {
      "text/plain": [
       "BWT_split (generic function with 1 method)"
      ]
     },
     "execution_count": 7,
     "metadata": {},
     "output_type": "execute_result"
    }
   ],
   "source": [
    "#function to get the BWT for each kmer in the list\n",
    "function BWT_split(string, k)\n",
    "    kmers = splitkmers(string, k)\n",
    "    #pre-initialising an empty array for the BWT of all the kmers\n",
    "    BWTsplit_out = []\n",
    "    #for loop for appending every BWT of kmers in BWTsplit_out\n",
    "    for i in 1:length(kmers)\n",
    "        BWTsplit_out = push!(BWTsplit_out, BWT(kmers[i]))\n",
    "    end\n",
    "    return BWTsplit_out\n",
    "end "
   ]
  },
  {
   "cell_type": "code",
   "execution_count": 8,
   "metadata": {},
   "outputs": [
    {
     "name": "stdout",
     "output_type": "stream",
     "text": [
      "BWT on each of the kmers: \n",
      "G#GA\n",
      "G#GA\n",
      "GGA#\n",
      "GGA#\n",
      "AGG#\n",
      "AGG#\n",
      "  0.051858 seconds (151.51 k allocations: 6.895 MiB)\n"
     ]
    }
   ],
   "source": [
    "@time begin #to get time and memory allocation for BWT w kmers\n",
    "    \n",
    "out_BWT_split = BWT_split(inp_string, k)\n",
    "println(\"BWT on each of the kmers: \")\n",
    "for i in 1:length(out_BWT_split)\n",
    "    println(out_BWT_split[i])\n",
    "end\n",
    "end"
   ]
  },
  {
   "cell_type": "markdown",
   "metadata": {},
   "source": [
    "## Inverse BWT"
   ]
  },
  {
   "cell_type": "code",
   "execution_count": 9,
   "metadata": {},
   "outputs": [
    {
     "data": {
      "text/plain": [
       "IBWT (generic function with 1 method)"
      ]
     },
     "execution_count": 9,
     "metadata": {},
     "output_type": "execute_result"
    }
   ],
   "source": [
    "# function to get the IBWT of a BWT sequence\n",
    "function IBWT(BWT_sequence)\n",
    "    BWT = []\n",
    "    # for loop to append BWT array with the elements of BWT_Sequence\n",
    "    for i in 1:length(BWT_sequence)\n",
    "    push!(BWT,BWT_sequence[i])\n",
    "    end\n",
    "\n",
    "    len = length(BWT)\n",
    "    # Creating a empty array with the length of the BWT sequence\n",
    "    IBWT = Array{String}(undef,len)\n",
    "    # pre-initialising an array temp for BWT \n",
    "    temp = BWT\n",
    "\n",
    "    for i in 1:len\n",
    "    temp_1 = copy(temp)\n",
    "    # sorting the copy of BWT array lexicographically\n",
    "    temp_1 = Bub_sort(temp_1)\n",
    "    for j in 1:len\n",
    "    # concatenating the bwt string with the sorted words\n",
    "    IBWT[j] = BWT[j] * temp_1[j] \n",
    "    end\n",
    "    # reinitialising the temp array as IBWT\n",
    "    temp = IBWT\n",
    "    end\n",
    "\n",
    "    for i in 1:len\n",
    "    IBWT[i] = IBWT[i][2:end]\n",
    "    end\n",
    "    # to return the first string of the list\n",
    "    return IBWT[1][2:end]\n",
    "end"
   ]
  },
  {
   "cell_type": "code",
   "execution_count": 10,
   "metadata": {},
   "outputs": [
    {
     "name": "stdout",
     "output_type": "stream",
     "text": [
      "  0.072197 seconds (102.76 k allocations: 4.827 MiB)\n"
     ]
    },
    {
     "data": {
      "text/plain": [
       "\"GAGGAGGA\""
      ]
     },
     "execution_count": 10,
     "metadata": {},
     "output_type": "execute_result"
    }
   ],
   "source": [
    "@time begin #to get time and memory allocation for IBWT\n",
    "    \n",
    "out_IBWT = IBWT(out_BWT)\n",
    "\n",
    "end"
   ]
  },
  {
   "cell_type": "code",
   "execution_count": 11,
   "metadata": {},
   "outputs": [
    {
     "data": {
      "text/plain": [
       "true"
      ]
     },
     "execution_count": 11,
     "metadata": {},
     "output_type": "execute_result"
    }
   ],
   "source": [
    "# Checking if output of BWT = input string\n",
    "out_IBWT == inp_string"
   ]
  },
  {
   "cell_type": "code",
   "execution_count": 12,
   "metadata": {},
   "outputs": [
    {
     "data": {
      "text/plain": [
       "IBWT_split (generic function with 1 method)"
      ]
     },
     "execution_count": 12,
     "metadata": {},
     "output_type": "execute_result"
    }
   ],
   "source": [
    "# function to get IBWT of every BWT of Kmers\n",
    "function IBWT_split(BWT_kmers)\n",
    "    # pre-initialising an empty array for the IBWT of all the kmers\n",
    "    IBWT_kmers = []\n",
    "\n",
    "    # for loop for appending every IBWT of kmers in IBWT_split\n",
    "    for i in 1:length(BWT_kmers)\n",
    "        IBWT_kmers  = push!(IBWT_kmers, IBWT(BWT_kmers[i]))\n",
    "    end\n",
    "    return IBWT_kmers\n",
    "end"
   ]
  },
  {
   "cell_type": "code",
   "execution_count": 13,
   "metadata": {},
   "outputs": [
    {
     "name": "stdout",
     "output_type": "stream",
     "text": [
      "Inverse BWT on each of the kmers: \n",
      "AGG\n",
      "AGG\n",
      "GAG\n",
      "GAG\n",
      "GGA\n",
      "GGA\n",
      "  0.029968 seconds (74.94 k allocations: 3.551 MiB)\n"
     ]
    }
   ],
   "source": [
    "@time begin #to get time and memory allocation for IBWT w kmers\n",
    "\n",
    "out_IBWT_split = IBWT_split(out_BWT_split)\n",
    "println(\"Inverse BWT on each of the kmers: \")\n",
    "for i in 1:length(out_IBWT_split)\n",
    "    println(out_IBWT_split[i])\n",
    "end\n",
    "end"
   ]
  }
 ],
 "metadata": {
  "kernelspec": {
   "display_name": "Julia 1.4.2",
   "language": "julia",
   "name": "julia-1.4"
  },
  "language_info": {
   "file_extension": ".jl",
   "mimetype": "application/julia",
   "name": "julia",
   "version": "1.4.2"
  }
 },
 "nbformat": 4,
 "nbformat_minor": 2
}
