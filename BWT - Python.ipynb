{
 "cells": [
  {
   "cell_type": "markdown",
   "metadata": {},
   "source": [
    "# Group A\n",
    "## Burrows Wheeler Transform: JavaScript"
   ]
  },
  {
   "cell_type": "markdown",
   "metadata": {},
   "source": [
    "*********************"
   ]
  },
  {
   "cell_type": "code",
   "execution_count": 1,
   "metadata": {},
   "outputs": [],
   "source": [
    "dna_string=\"GAGGAGGA\" #given dna string"
   ]
  },
  {
   "cell_type": "code",
   "execution_count": 2,
   "metadata": {},
   "outputs": [],
   "source": [
    "# function to append dollar\n",
    "def append_dollar(dna_string):\n",
    "    dna_string+=\"$\"\n",
    "    return dna_string"
   ]
  },
  {
   "cell_type": "code",
   "execution_count": 13,
   "metadata": {},
   "outputs": [],
   "source": [
    "def kmer_gen(st,k):\n",
    "    kmer=[]\n",
    "    for i in range(len(st)-k+1):\n",
    "        kmer.append(st[i:i+k])\n",
    "    return kmer"
   ]
  },
  {
   "cell_type": "code",
   "execution_count": 14,
   "metadata": {},
   "outputs": [],
   "source": [
    "kmer = kmer_gen(dna_string,3)"
   ]
  },
  {
   "cell_type": "code",
   "execution_count": 15,
   "metadata": {},
   "outputs": [
    {
     "name": "stdout",
     "output_type": "stream",
     "text": [
      "['GAG', 'AGG', 'GGA', 'GAG', 'AGG', 'GGA']\n"
     ]
    }
   ],
   "source": [
    "print(kmer)"
   ]
  },
  {
   "cell_type": "code",
   "execution_count": 16,
   "metadata": {},
   "outputs": [],
   "source": [
    "def sort_kmer(km):\n",
    "    kmer=km.copy()\n",
    "    for i in range(len(kmer)):\n",
    "        for j in range(1,len(kmer)-i):\n",
    "            if kmer[j-1] > kmer[j]:\n",
    "                (kmer[j-1], kmer[j]) = (kmer[j], kmer[j-1])\n",
    "    return kmer"
   ]
  },
  {
   "cell_type": "code",
   "execution_count": 17,
   "metadata": {},
   "outputs": [],
   "source": [
    "skmer=sort_kmer(kmer)"
   ]
  },
  {
   "cell_type": "code",
   "execution_count": 18,
   "metadata": {},
   "outputs": [
    {
     "name": "stdout",
     "output_type": "stream",
     "text": [
      "['AGG', 'AGG', 'GAG', 'GAG', 'GGA', 'GGA']\n"
     ]
    }
   ],
   "source": [
    "print(skmer)"
   ]
  },
  {
   "cell_type": "code",
   "execution_count": 4,
   "metadata": {},
   "outputs": [],
   "source": [
    "# create a table of right rotated characters of given dna string with $ appended\n",
    "def word_list(dna_string):\n",
    "    word_lst=[dna_string[i:]+dna_string[:i] for i in range(len(dna_string))] \n",
    "    return sorted(word_lst)# sort the full table"
   ]
  },
  {
   "cell_type": "code",
   "execution_count": 25,
   "metadata": {},
   "outputs": [
    {
     "name": "stdout",
     "output_type": "stream",
     "text": [
      "['$AGG', 'AGG$', 'G$AG', 'GG$A']\n",
      "['$AGG', 'AGG$', 'G$AG', 'GG$A']\n",
      "['$GAG', 'AG$G', 'G$GA', 'GAG$']\n",
      "['$GAG', 'AG$G', 'G$GA', 'GAG$']\n",
      "['$GGA', 'A$GG', 'GA$G', 'GGA$']\n",
      "['$GGA', 'A$GG', 'GA$G', 'GGA$']\n"
     ]
    }
   ],
   "source": [
    "km=[]\n",
    "for kmr in skmer:\n",
    "    km.append(word_list(append_dollar(kmr)))\n",
    "for k in km:\n",
    "    print(k)"
   ]
  },
  {
   "cell_type": "code",
   "execution_count": 5,
   "metadata": {},
   "outputs": [
    {
     "data": {
      "text/plain": [
       "['$GAGGAGGA',\n",
       " 'A$GAGGAGG',\n",
       " 'AGGA$GAGG',\n",
       " 'AGGAGGA$G',\n",
       " 'GA$GAGGAG',\n",
       " 'GAGGA$GAG',\n",
       " 'GAGGAGGA$',\n",
       " 'GGA$GAGGA',\n",
       " 'GGAGGA$GA']"
      ]
     },
     "execution_count": 5,
     "metadata": {},
     "output_type": "execute_result"
    }
   ],
   "source": [
    "new=append_dollar(dna_string)# dollar appended\n",
    "word_lit=word_list(new)# creating table\n",
    "word_lit # display of table"
   ]
  },
  {
   "cell_type": "code",
   "execution_count": 26,
   "metadata": {},
   "outputs": [],
   "source": [
    "# transforming bwt table form word_list\n",
    "def bwt_transform(word_list):\n",
    "    bwt=\"\"\n",
    "    for seq in word_list:\n",
    "        bwt+=seq[-1] # add last letter from every row in table\n",
    "    return bwt"
   ]
  },
  {
   "cell_type": "code",
   "execution_count": 7,
   "metadata": {},
   "outputs": [
    {
     "name": "stdout",
     "output_type": "stream",
     "text": [
      "AGGGGG$AA\n"
     ]
    }
   ],
   "source": [
    "bwt_trans=bwt_transform(word_lit) # bwt \n",
    "print(bwt_trans)# display of bwt"
   ]
  },
  {
   "cell_type": "code",
   "execution_count": 27,
   "metadata": {},
   "outputs": [
    {
     "name": "stdout",
     "output_type": "stream",
     "text": [
      "G$GA\n",
      "G$GA\n",
      "GGA$\n",
      "GGA$\n",
      "AGG$\n",
      "AGG$\n"
     ]
    }
   ],
   "source": [
    "bw_list=[]\n",
    "for k in km:\n",
    "    bw_list.append(bwt_transform(k))\n",
    "for bWt in bw_list:\n",
    "    print(bWt)"
   ]
  },
  {
   "cell_type": "code",
   "execution_count": 8,
   "metadata": {},
   "outputs": [],
   "source": [
    "def inverseBWT(bwt):\n",
    "    # initialize the table from t\n",
    "    table = ['' for c in bwt]\n",
    "    for j in range(len(bwt)):\n",
    "        # insert the BWT as the first column\n",
    "        table = sorted([c+table[i] for i, c in enumerate(bwt)])\n",
    "    # return the row that ends with ‘$’\n",
    "    given = table[bwt.index('$')]\n",
    "    return given[:len(given)-1] # returning without $ sign"
   ]
  },
  {
   "cell_type": "code",
   "execution_count": 9,
   "metadata": {},
   "outputs": [
    {
     "name": "stdout",
     "output_type": "stream",
     "text": [
      "GAGGAGGA\n"
     ]
    }
   ],
   "source": [
    "inv_bwt_trans=inverseBWT(bwt_trans) #inverse bwt \n",
    "print(inv_bwt_trans) # display of inverse bwt"
   ]
  },
  {
   "cell_type": "code",
   "execution_count": 32,
   "metadata": {},
   "outputs": [
    {
     "name": "stdout",
     "output_type": "stream",
     "text": [
      "AGGGGGAA\n"
     ]
    }
   ],
   "source": [
    "inv_bw_list=[]\n",
    "for bWt in bw_list:\n",
    "    inv_bw_list.append(inverseBWT(bWt))\n",
    "original=inv_bw_list[0]\n",
    "for i in range(1,len(inv_bw_list)):\n",
    "    original+=inv_bw_list[i][-1]\n",
    "print(original)"
   ]
  },
  {
   "cell_type": "code",
   "execution_count": 10,
   "metadata": {},
   "outputs": [
    {
     "data": {
      "text/plain": [
       "True"
      ]
     },
     "execution_count": 10,
     "metadata": {},
     "output_type": "execute_result"
    }
   ],
   "source": [
    "inv_bwt_trans==dna_string # verification"
   ]
  }
 ],
 "metadata": {
  "kernelspec": {
   "display_name": "Python 3",
   "language": "python",
   "name": "python3"
  },
  "language_info": {
   "codemirror_mode": {
    "name": "ipython",
    "version": 3
   },
   "file_extension": ".py",
   "mimetype": "text/x-python",
   "name": "python",
   "nbconvert_exporter": "python",
   "pygments_lexer": "ipython3",
   "version": "3.7.4"
  }
 },
 "nbformat": 4,
 "nbformat_minor": 2
}
