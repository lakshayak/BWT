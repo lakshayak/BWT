{
 "cells": [
  {
   "cell_type": "markdown",
   "metadata": {},
   "source": [
    "# Group A\n",
    "## Burrows Wheeler Transform: JavaScript"
   ]
  },
  {
   "cell_type": "markdown",
   "metadata": {},
   "source": [
    "****************************"
   ]
  },
  {
   "cell_type": "code",
   "execution_count": 1,
   "metadata": {},
   "outputs": [],
   "source": [
    "var ms = require('mathjs')"
   ]
  },
  {
   "cell_type": "code",
   "execution_count": 2,
   "metadata": {},
   "outputs": [
    {
     "data": {
      "text/plain": [
       "3"
      ]
     },
     "execution_count": 2,
     "metadata": {},
     "output_type": "execute_result"
    }
   ],
   "source": [
    "string= 'GAGGAGGA'\n",
    "k = 3"
   ]
  },
  {
   "cell_type": "code",
   "execution_count": 3,
   "metadata": {},
   "outputs": [],
   "source": [
    "function splitkmers(given, k){\n",
    "// pre-initialising an array for the kmers\n",
    "var kmers = [];\n",
    "// for loop that iterates through the DNA string and extracts the kmers\n",
    "for (var i = 0; i <= (given.length - k); i++){\n",
    "        // adding the kmers into the kmers array by slicing \n",
    "       kmers.push(given.slice(i, i+k));\n",
    "}    \n",
    "    return kmers\n",
    "}"
   ]
  },
  {
   "cell_type": "code",
   "execution_count": 4,
   "metadata": {},
   "outputs": [],
   "source": [
    "function sortkmers(given){\n",
    "    // storing the kmers into a new var sortedkmers\n",
    "    var sortedkmers = kmers;\n",
    "    // for loop which loops through kmers loop\n",
    "    for (var i = 0; i < kmers.length; i++) {\n",
    "    // nested for loop which starts at the next element\n",
    "        for (var j =i+1; j < kmers.length; j++) {\n",
    "        // checks if kmers[i] is greater than kmers[i+1] \n",
    "            if (kmers[i].localeCompare(kmers[j]) > 0) {\n",
    "            \n",
    "            // if yes, it stores kmers[i] into a var temp\n",
    "            var temp = kmers[i];\n",
    "            \n",
    "            // stores kmers[i+1] into the place of kmers[i] \n",
    "            sortedkmers[i] = kmers[j];\n",
    "            \n",
    "            // stores kmers[i] into place of kmers[i+1]\n",
    "            sortedkmers[j]= temp;\n",
    "            }\n",
    "        }\n",
    "    }\n",
    "    return sortedkmers\n",
    "}"
   ]
  },
  {
   "cell_type": "code",
   "execution_count": 5,
   "metadata": {},
   "outputs": [],
   "source": [
    "function bwt_table(given){\n",
    "    var table = []\n",
    "    for (var i = 0; i < given.length; i++){\n",
    "      // word = last letter + first to last-1 letter\n",
    "      var word = given.slice(-1) + given.slice(0, -1);\n",
    "      // assigning given to word so as to perform cyclic rotation \n",
    "        given = word; \n",
    "    // adding each word to words_list\n",
    "    table.push(word)\n",
    "}\n",
    "    return table.sort()\n",
    "}"
   ]
  },
  {
   "cell_type": "code",
   "execution_count": 6,
   "metadata": {},
   "outputs": [],
   "source": [
    "function bwt_transform(table){\n",
    "    // empty string for containing bwt string\n",
    "    bwt = ''\n",
    "    // taking the last element from each word from the sorted words list \n",
    "    for (var j = 0; j < table.length; j++){\n",
    "        bwt += (table[j].slice(-1))\n",
    "    }\n",
    "    return bwt\n",
    "}"
   ]
  },
  {
   "cell_type": "code",
   "execution_count": 7,
   "metadata": {},
   "outputs": [],
   "source": [
    "function bwt_withoutsplit(given_string){\n",
    "    // appending $ to the string\n",
    "    given_string += '$'\n",
    "    // performing cyclic rotation and obtaining the BWT table\n",
    "    table = bwt_table(given_string)\n",
    "    // performing BWT based on the BWT table\n",
    "    out = bwt_transform(table)\n",
    "    return out\n",
    "}"
   ]
  },
  {
   "cell_type": "code",
   "execution_count": 8,
   "metadata": {},
   "outputs": [
    {
     "name": "stdout",
     "output_type": "stream",
     "text": [
      "AGGGGG$AA\n",
      "BWT w/o split: 1.479ms\n"
     ]
    }
   ],
   "source": [
    "console.time('BWT w/o split') \n",
    "bwt_out = bwt_withoutsplit(string)\n",
    "console.log(out)\n",
    "console.timeEnd('BWT w/o split') "
   ]
  },
  {
   "cell_type": "code",
   "execution_count": 9,
   "metadata": {},
   "outputs": [],
   "source": [
    "function bwt_withsplit(given_string, k){\n",
    "    // splitting a string into kmers and sorting\n",
    "    kmers = splitkmers(given_string, k)\n",
    "    \n",
    "    kmers = sortkmers(kmers)\n",
    "    \n",
    "    kmer_d = []\n",
    "    // appending each kmer with an appended $\n",
    "    for (var i = 0; i < kmers.length; i++){\n",
    "        kmer_d.push(bwt_table(kmers[i]+'$'))\n",
    "    }\n",
    "\n",
    "    bwt_kmers = []\n",
    "    // performing bwt on each of the kmers \n",
    "    for (var j = 0; j < kmer_d.length; j++){\n",
    "        bwt_kmers.push(bwt_transform(kmer_d[j]))\n",
    "    }\n",
    "return bwt_kmers\n",
    "}"
   ]
  },
  {
   "cell_type": "code",
   "execution_count": 10,
   "metadata": {},
   "outputs": [
    {
     "name": "stdout",
     "output_type": "stream",
     "text": [
      "[ 'G$GA', 'G$GA', 'GGA$', 'GGA$', 'AGG$', 'AGG$' ]\n",
      "BWT with split: 1.845ms\n"
     ]
    }
   ],
   "source": [
    "console.time('BWT with split')\n",
    "bwtout_split = bwt_withsplit(string, k)\n",
    "console.log(bwtout_split)\n",
    "console.timeEnd('BWT with split')"
   ]
  },
  {
   "cell_type": "markdown",
   "metadata": {},
   "source": [
    "## Inverse BWT:"
   ]
  },
  {
   "cell_type": "code",
   "execution_count": 11,
   "metadata": {},
   "outputs": [],
   "source": [
    "// function for inverting BWT that takes a BWT string and index as an input\n",
    "function invBWT(bwt){\n",
    "    \n",
    "// splitting BWT string into an array\n",
    "var last = bwt.split('')\n",
    "\n",
    "// reshaping it to be a column\n",
    "var lastc = ms.reshape(last, [bwt.length, 1])\n",
    "\n",
    "// assigning words lastc \n",
    "var words = lastc.slice()\n",
    "\n",
    "for (var i = 0; i < bwt.length; i++){\n",
    "    // sorting words lexicographically \n",
    "    var words_sorted = words.slice().sort()\n",
    "    // concatenating given bwt string with sorted words\n",
    "    words = ms.concat(lastc, words_sorted, 1)\n",
    "  \n",
    "}\n",
    "// extracting the given index of words_sorted\n",
    "for (var j = 0; j < words.length; j++){\n",
    "    if (words[j][words.length] == '$'){\n",
    "        index = j\n",
    "    }\n",
    "}\n",
    "var splits = words_sorted[index]\n",
    "// joining together to make a string\n",
    "og = splits.join('').slice(0, -1)\n",
    "return og\n",
    "}"
   ]
  },
  {
   "cell_type": "code",
   "execution_count": 12,
   "metadata": {},
   "outputs": [
    {
     "name": "stdout",
     "output_type": "stream",
     "text": [
      "GAGGAGGA\n",
      "IBWT w/o split: 1.295ms\n"
     ]
    }
   ],
   "source": [
    "console.time('IBWT w/o split')\n",
    "\n",
    "ibwt_out = invBWT(bwt_out)\n",
    "console.log(ibwt_out)\n",
    "\n",
    "console.timeEnd('IBWT w/o split')"
   ]
  },
  {
   "cell_type": "code",
   "execution_count": 13,
   "metadata": {},
   "outputs": [
    {
     "name": "stdout",
     "output_type": "stream",
     "text": [
      "true\n"
     ]
    }
   ],
   "source": [
    "// checking if output of IBWT is same as input string\n",
    "console.log(ibwt_out==string)"
   ]
  },
  {
   "cell_type": "code",
   "execution_count": 14,
   "metadata": {},
   "outputs": [],
   "source": [
    "function invBWT_split(bwt_list){\n",
    "    inv = []\n",
    "    // performing inverse BWT on the obtained BWT strings for each kmer\n",
    "    for (var i = 0; i<bwt_list.length ; i++){\n",
    "        inv.push(invBWT(bwt_list[i]))\n",
    "    }\n",
    "    return inv\n",
    "}"
   ]
  },
  {
   "cell_type": "code",
   "execution_count": 15,
   "metadata": {},
   "outputs": [
    {
     "name": "stdout",
     "output_type": "stream",
     "text": [
      "[ 'AGG', 'AGG', 'GAG', 'GAG', 'GGA', 'GGA' ]\n",
      "IBWT with split: 0.701ms\n"
     ]
    }
   ],
   "source": [
    "console.time('IBWT with split')\n",
    "\n",
    "IBWTout_split = invBWT_split(bwtout_split)\n",
    "console.log(IBWTout_split)\n",
    "\n",
    "console.timeEnd('IBWT with split')"
   ]
  }
 ],
 "metadata": {
  "kernelspec": {
   "display_name": "Javascript (Node.js)",
   "language": "javascript",
   "name": "javascript"
  },
  "language_info": {
   "file_extension": ".js",
   "mimetype": "application/javascript",
   "name": "javascript",
   "version": "12.18.3"
  }
 },
 "nbformat": 4,
 "nbformat_minor": 2
}
